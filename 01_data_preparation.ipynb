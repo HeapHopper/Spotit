{
 "cells": [
  {
   "cell_type": "markdown",
   "metadata": {},
   "source": [
    "# Data Preparation\n"
   ]
  },
  {
   "cell_type": "code",
   "execution_count": 300,
   "metadata": {},
   "outputs": [],
   "source": [
    "# DS18 ML Essentials project\n",
    "# Module 1: Data Preparation\n",
    "\n",
    "# Submitted by: Tzvi Eliezer Nir\n",
    "# mail: tzvienir@gmail.com\n",
    "# Date: 05/03/2025"
   ]
  },
  {
   "cell_type": "markdown",
   "metadata": {},
   "source": [
    "## First Impression\n",
    "\n",
    "In this section we will load the dataset and see its basic structure: columns characteristics, shape, nulls, duplicates etc.\n",
    "\n",
    "The reasons we do this simple analysis now is to find where the data needs some preprocessing done - merging tables, handeling textual and categorical columns and more.\n",
    "\n",
    "We will NOT however do any visual or computational EDA since this section is about prepering the dataset **to** the EDA."
   ]
  },
  {
   "cell_type": "markdown",
   "metadata": {},
   "source": [
    "### Load the dataset"
   ]
  },
  {
   "cell_type": "code",
   "execution_count": 301,
   "metadata": {},
   "outputs": [],
   "source": [
    "import pandas as pd"
   ]
  },
  {
   "cell_type": "code",
   "execution_count": 302,
   "metadata": {},
   "outputs": [
    {
     "data": {
      "text/html": [
       "<div>\n",
       "<style scoped>\n",
       "    .dataframe tbody tr th:only-of-type {\n",
       "        vertical-align: middle;\n",
       "    }\n",
       "\n",
       "    .dataframe tbody tr th {\n",
       "        vertical-align: top;\n",
       "    }\n",
       "\n",
       "    .dataframe thead th {\n",
       "        text-align: right;\n",
       "    }\n",
       "</style>\n",
       "<table border=\"1\" class=\"dataframe\">\n",
       "  <thead>\n",
       "    <tr style=\"text-align: right;\">\n",
       "      <th></th>\n",
       "      <th>track_id</th>\n",
       "      <th>track_name</th>\n",
       "      <th>track_artist</th>\n",
       "      <th>track_popularity</th>\n",
       "      <th>track_album_id</th>\n",
       "      <th>track_album_name</th>\n",
       "      <th>track_album_release_date</th>\n",
       "      <th>playlist_name</th>\n",
       "      <th>playlist_id</th>\n",
       "      <th>playlist_genre</th>\n",
       "      <th>...</th>\n",
       "      <th>key</th>\n",
       "      <th>loudness</th>\n",
       "      <th>mode</th>\n",
       "      <th>speechiness</th>\n",
       "      <th>acousticness</th>\n",
       "      <th>instrumentalness</th>\n",
       "      <th>liveness</th>\n",
       "      <th>valence</th>\n",
       "      <th>tempo</th>\n",
       "      <th>duration_ms</th>\n",
       "    </tr>\n",
       "  </thead>\n",
       "  <tbody>\n",
       "    <tr>\n",
       "      <th>0</th>\n",
       "      <td>6f807x0ima9a1j3VPbc7VN</td>\n",
       "      <td>I Don't Care (with Justin Bieber) - Loud Luxur...</td>\n",
       "      <td>Ed Sheeran</td>\n",
       "      <td>66</td>\n",
       "      <td>2oCs0DGTsRO98Gh5ZSl2Cx</td>\n",
       "      <td>I Don't Care (with Justin Bieber) [Loud Luxury...</td>\n",
       "      <td>2019-06-14</td>\n",
       "      <td>Pop Remix</td>\n",
       "      <td>37i9dQZF1DXcZDD7cfEKhW</td>\n",
       "      <td>pop</td>\n",
       "      <td>...</td>\n",
       "      <td>6</td>\n",
       "      <td>-2.634</td>\n",
       "      <td>1</td>\n",
       "      <td>0.0583</td>\n",
       "      <td>0.1020</td>\n",
       "      <td>0.000000</td>\n",
       "      <td>0.0653</td>\n",
       "      <td>0.518</td>\n",
       "      <td>122.036</td>\n",
       "      <td>194754</td>\n",
       "    </tr>\n",
       "    <tr>\n",
       "      <th>1</th>\n",
       "      <td>0r7CVbZTWZgbTCYdfa2P31</td>\n",
       "      <td>Memories - Dillon Francis Remix</td>\n",
       "      <td>Maroon 5</td>\n",
       "      <td>67</td>\n",
       "      <td>63rPSO264uRjW1X5E6cWv6</td>\n",
       "      <td>Memories (Dillon Francis Remix)</td>\n",
       "      <td>2019-12-13</td>\n",
       "      <td>Pop Remix</td>\n",
       "      <td>37i9dQZF1DXcZDD7cfEKhW</td>\n",
       "      <td>pop</td>\n",
       "      <td>...</td>\n",
       "      <td>11</td>\n",
       "      <td>-4.969</td>\n",
       "      <td>1</td>\n",
       "      <td>0.0373</td>\n",
       "      <td>0.0724</td>\n",
       "      <td>0.004210</td>\n",
       "      <td>0.3570</td>\n",
       "      <td>0.693</td>\n",
       "      <td>99.972</td>\n",
       "      <td>162600</td>\n",
       "    </tr>\n",
       "    <tr>\n",
       "      <th>2</th>\n",
       "      <td>1z1Hg7Vb0AhHDiEmnDE79l</td>\n",
       "      <td>All the Time - Don Diablo Remix</td>\n",
       "      <td>Zara Larsson</td>\n",
       "      <td>70</td>\n",
       "      <td>1HoSmj2eLcsrR0vE9gThr4</td>\n",
       "      <td>All the Time (Don Diablo Remix)</td>\n",
       "      <td>2019-07-05</td>\n",
       "      <td>Pop Remix</td>\n",
       "      <td>37i9dQZF1DXcZDD7cfEKhW</td>\n",
       "      <td>pop</td>\n",
       "      <td>...</td>\n",
       "      <td>1</td>\n",
       "      <td>-3.432</td>\n",
       "      <td>0</td>\n",
       "      <td>0.0742</td>\n",
       "      <td>0.0794</td>\n",
       "      <td>0.000023</td>\n",
       "      <td>0.1100</td>\n",
       "      <td>0.613</td>\n",
       "      <td>124.008</td>\n",
       "      <td>176616</td>\n",
       "    </tr>\n",
       "    <tr>\n",
       "      <th>3</th>\n",
       "      <td>75FpbthrwQmzHlBJLuGdC7</td>\n",
       "      <td>Call You Mine - Keanu Silva Remix</td>\n",
       "      <td>The Chainsmokers</td>\n",
       "      <td>60</td>\n",
       "      <td>1nqYsOef1yKKuGOVchbsk6</td>\n",
       "      <td>Call You Mine - The Remixes</td>\n",
       "      <td>2019-07-19</td>\n",
       "      <td>Pop Remix</td>\n",
       "      <td>37i9dQZF1DXcZDD7cfEKhW</td>\n",
       "      <td>pop</td>\n",
       "      <td>...</td>\n",
       "      <td>7</td>\n",
       "      <td>-3.778</td>\n",
       "      <td>1</td>\n",
       "      <td>0.1020</td>\n",
       "      <td>0.0287</td>\n",
       "      <td>0.000009</td>\n",
       "      <td>0.2040</td>\n",
       "      <td>0.277</td>\n",
       "      <td>121.956</td>\n",
       "      <td>169093</td>\n",
       "    </tr>\n",
       "    <tr>\n",
       "      <th>4</th>\n",
       "      <td>1e8PAfcKUYoKkxPhrHqw4x</td>\n",
       "      <td>Someone You Loved - Future Humans Remix</td>\n",
       "      <td>Lewis Capaldi</td>\n",
       "      <td>69</td>\n",
       "      <td>7m7vv9wlQ4i0LFuJiE2zsQ</td>\n",
       "      <td>Someone You Loved (Future Humans Remix)</td>\n",
       "      <td>2019-03-05</td>\n",
       "      <td>Pop Remix</td>\n",
       "      <td>37i9dQZF1DXcZDD7cfEKhW</td>\n",
       "      <td>pop</td>\n",
       "      <td>...</td>\n",
       "      <td>1</td>\n",
       "      <td>-4.672</td>\n",
       "      <td>1</td>\n",
       "      <td>0.0359</td>\n",
       "      <td>0.0803</td>\n",
       "      <td>0.000000</td>\n",
       "      <td>0.0833</td>\n",
       "      <td>0.725</td>\n",
       "      <td>123.976</td>\n",
       "      <td>189052</td>\n",
       "    </tr>\n",
       "  </tbody>\n",
       "</table>\n",
       "<p>5 rows × 23 columns</p>\n",
       "</div>"
      ],
      "text/plain": [
       "                 track_id                                         track_name  \\\n",
       "0  6f807x0ima9a1j3VPbc7VN  I Don't Care (with Justin Bieber) - Loud Luxur...   \n",
       "1  0r7CVbZTWZgbTCYdfa2P31                    Memories - Dillon Francis Remix   \n",
       "2  1z1Hg7Vb0AhHDiEmnDE79l                    All the Time - Don Diablo Remix   \n",
       "3  75FpbthrwQmzHlBJLuGdC7                  Call You Mine - Keanu Silva Remix   \n",
       "4  1e8PAfcKUYoKkxPhrHqw4x            Someone You Loved - Future Humans Remix   \n",
       "\n",
       "       track_artist  track_popularity          track_album_id  \\\n",
       "0        Ed Sheeran                66  2oCs0DGTsRO98Gh5ZSl2Cx   \n",
       "1          Maroon 5                67  63rPSO264uRjW1X5E6cWv6   \n",
       "2      Zara Larsson                70  1HoSmj2eLcsrR0vE9gThr4   \n",
       "3  The Chainsmokers                60  1nqYsOef1yKKuGOVchbsk6   \n",
       "4     Lewis Capaldi                69  7m7vv9wlQ4i0LFuJiE2zsQ   \n",
       "\n",
       "                                    track_album_name track_album_release_date  \\\n",
       "0  I Don't Care (with Justin Bieber) [Loud Luxury...               2019-06-14   \n",
       "1                    Memories (Dillon Francis Remix)               2019-12-13   \n",
       "2                    All the Time (Don Diablo Remix)               2019-07-05   \n",
       "3                        Call You Mine - The Remixes               2019-07-19   \n",
       "4            Someone You Loved (Future Humans Remix)               2019-03-05   \n",
       "\n",
       "  playlist_name             playlist_id playlist_genre  ... key  loudness  \\\n",
       "0     Pop Remix  37i9dQZF1DXcZDD7cfEKhW            pop  ...   6    -2.634   \n",
       "1     Pop Remix  37i9dQZF1DXcZDD7cfEKhW            pop  ...  11    -4.969   \n",
       "2     Pop Remix  37i9dQZF1DXcZDD7cfEKhW            pop  ...   1    -3.432   \n",
       "3     Pop Remix  37i9dQZF1DXcZDD7cfEKhW            pop  ...   7    -3.778   \n",
       "4     Pop Remix  37i9dQZF1DXcZDD7cfEKhW            pop  ...   1    -4.672   \n",
       "\n",
       "   mode  speechiness  acousticness  instrumentalness  liveness  valence  \\\n",
       "0     1       0.0583        0.1020          0.000000    0.0653    0.518   \n",
       "1     1       0.0373        0.0724          0.004210    0.3570    0.693   \n",
       "2     0       0.0742        0.0794          0.000023    0.1100    0.613   \n",
       "3     1       0.1020        0.0287          0.000009    0.2040    0.277   \n",
       "4     1       0.0359        0.0803          0.000000    0.0833    0.725   \n",
       "\n",
       "     tempo  duration_ms  \n",
       "0  122.036       194754  \n",
       "1   99.972       162600  \n",
       "2  124.008       176616  \n",
       "3  121.956       169093  \n",
       "4  123.976       189052  \n",
       "\n",
       "[5 rows x 23 columns]"
      ]
     },
     "execution_count": 302,
     "metadata": {},
     "output_type": "execute_result"
    }
   ],
   "source": [
    "df = pd.read_csv('data/spotify_songs.csv')\n",
    "\n",
    "df.head()"
   ]
  },
  {
   "cell_type": "markdown",
   "metadata": {},
   "source": [
    "### Dataset properties\n",
    "\n",
    "Lets have a look at the dataset shape and the type of each column using `df.shape()`,`df.info()`:"
   ]
  },
  {
   "cell_type": "code",
   "execution_count": 303,
   "metadata": {},
   "outputs": [
    {
     "data": {
      "text/plain": [
       "(32833, 23)"
      ]
     },
     "execution_count": 303,
     "metadata": {},
     "output_type": "execute_result"
    }
   ],
   "source": [
    "df.shape"
   ]
  },
  {
   "cell_type": "code",
   "execution_count": 304,
   "metadata": {},
   "outputs": [
    {
     "name": "stdout",
     "output_type": "stream",
     "text": [
      "<class 'pandas.core.frame.DataFrame'>\n",
      "RangeIndex: 32833 entries, 0 to 32832\n",
      "Data columns (total 23 columns):\n",
      " #   Column                    Non-Null Count  Dtype  \n",
      "---  ------                    --------------  -----  \n",
      " 0   track_id                  32833 non-null  object \n",
      " 1   track_name                32828 non-null  object \n",
      " 2   track_artist              32828 non-null  object \n",
      " 3   track_popularity          32833 non-null  int64  \n",
      " 4   track_album_id            32833 non-null  object \n",
      " 5   track_album_name          32828 non-null  object \n",
      " 6   track_album_release_date  32833 non-null  object \n",
      " 7   playlist_name             32833 non-null  object \n",
      " 8   playlist_id               32833 non-null  object \n",
      " 9   playlist_genre            32833 non-null  object \n",
      " 10  playlist_subgenre         32833 non-null  object \n",
      " 11  danceability              32833 non-null  float64\n",
      " 12  energy                    32833 non-null  float64\n",
      " 13  key                       32833 non-null  int64  \n",
      " 14  loudness                  32833 non-null  float64\n",
      " 15  mode                      32833 non-null  int64  \n",
      " 16  speechiness               32833 non-null  float64\n",
      " 17  acousticness              32833 non-null  float64\n",
      " 18  instrumentalness          32833 non-null  float64\n",
      " 19  liveness                  32833 non-null  float64\n",
      " 20  valence                   32833 non-null  float64\n",
      " 21  tempo                     32833 non-null  float64\n",
      " 22  duration_ms               32833 non-null  int64  \n",
      "dtypes: float64(9), int64(4), object(10)\n",
      "memory usage: 5.8+ MB\n"
     ]
    }
   ],
   "source": [
    "df.info()"
   ]
  },
  {
   "cell_type": "markdown",
   "metadata": {},
   "source": [
    "As we can see, There is a significant amount of `object`-type columns which we will have to handle.\n",
    "\n",
    "Yet, there are plenty of numerical columns both `int` and `float`. Lets have a look at the values of this columns using `df.describe()`:"
   ]
  },
  {
   "cell_type": "code",
   "execution_count": 305,
   "metadata": {},
   "outputs": [
    {
     "data": {
      "text/html": [
       "<div>\n",
       "<style scoped>\n",
       "    .dataframe tbody tr th:only-of-type {\n",
       "        vertical-align: middle;\n",
       "    }\n",
       "\n",
       "    .dataframe tbody tr th {\n",
       "        vertical-align: top;\n",
       "    }\n",
       "\n",
       "    .dataframe thead th {\n",
       "        text-align: right;\n",
       "    }\n",
       "</style>\n",
       "<table border=\"1\" class=\"dataframe\">\n",
       "  <thead>\n",
       "    <tr style=\"text-align: right;\">\n",
       "      <th></th>\n",
       "      <th>count</th>\n",
       "      <th>mean</th>\n",
       "      <th>std</th>\n",
       "      <th>min</th>\n",
       "      <th>25%</th>\n",
       "      <th>50%</th>\n",
       "      <th>75%</th>\n",
       "      <th>max</th>\n",
       "    </tr>\n",
       "  </thead>\n",
       "  <tbody>\n",
       "    <tr>\n",
       "      <th>track_popularity</th>\n",
       "      <td>32833.0</td>\n",
       "      <td>42.477081</td>\n",
       "      <td>24.984074</td>\n",
       "      <td>0.000000</td>\n",
       "      <td>24.0000</td>\n",
       "      <td>45.000000</td>\n",
       "      <td>62.00000</td>\n",
       "      <td>100.000</td>\n",
       "    </tr>\n",
       "    <tr>\n",
       "      <th>danceability</th>\n",
       "      <td>32833.0</td>\n",
       "      <td>0.654850</td>\n",
       "      <td>0.145085</td>\n",
       "      <td>0.000000</td>\n",
       "      <td>0.5630</td>\n",
       "      <td>0.672000</td>\n",
       "      <td>0.76100</td>\n",
       "      <td>0.983</td>\n",
       "    </tr>\n",
       "    <tr>\n",
       "      <th>energy</th>\n",
       "      <td>32833.0</td>\n",
       "      <td>0.698619</td>\n",
       "      <td>0.180910</td>\n",
       "      <td>0.000175</td>\n",
       "      <td>0.5810</td>\n",
       "      <td>0.721000</td>\n",
       "      <td>0.84000</td>\n",
       "      <td>1.000</td>\n",
       "    </tr>\n",
       "    <tr>\n",
       "      <th>key</th>\n",
       "      <td>32833.0</td>\n",
       "      <td>5.374471</td>\n",
       "      <td>3.611657</td>\n",
       "      <td>0.000000</td>\n",
       "      <td>2.0000</td>\n",
       "      <td>6.000000</td>\n",
       "      <td>9.00000</td>\n",
       "      <td>11.000</td>\n",
       "    </tr>\n",
       "    <tr>\n",
       "      <th>loudness</th>\n",
       "      <td>32833.0</td>\n",
       "      <td>-6.719499</td>\n",
       "      <td>2.988436</td>\n",
       "      <td>-46.448000</td>\n",
       "      <td>-8.1710</td>\n",
       "      <td>-6.166000</td>\n",
       "      <td>-4.64500</td>\n",
       "      <td>1.275</td>\n",
       "    </tr>\n",
       "    <tr>\n",
       "      <th>mode</th>\n",
       "      <td>32833.0</td>\n",
       "      <td>0.565711</td>\n",
       "      <td>0.495671</td>\n",
       "      <td>0.000000</td>\n",
       "      <td>0.0000</td>\n",
       "      <td>1.000000</td>\n",
       "      <td>1.00000</td>\n",
       "      <td>1.000</td>\n",
       "    </tr>\n",
       "    <tr>\n",
       "      <th>speechiness</th>\n",
       "      <td>32833.0</td>\n",
       "      <td>0.107068</td>\n",
       "      <td>0.101314</td>\n",
       "      <td>0.000000</td>\n",
       "      <td>0.0410</td>\n",
       "      <td>0.062500</td>\n",
       "      <td>0.13200</td>\n",
       "      <td>0.918</td>\n",
       "    </tr>\n",
       "    <tr>\n",
       "      <th>acousticness</th>\n",
       "      <td>32833.0</td>\n",
       "      <td>0.175334</td>\n",
       "      <td>0.219633</td>\n",
       "      <td>0.000000</td>\n",
       "      <td>0.0151</td>\n",
       "      <td>0.080400</td>\n",
       "      <td>0.25500</td>\n",
       "      <td>0.994</td>\n",
       "    </tr>\n",
       "    <tr>\n",
       "      <th>instrumentalness</th>\n",
       "      <td>32833.0</td>\n",
       "      <td>0.084747</td>\n",
       "      <td>0.224230</td>\n",
       "      <td>0.000000</td>\n",
       "      <td>0.0000</td>\n",
       "      <td>0.000016</td>\n",
       "      <td>0.00483</td>\n",
       "      <td>0.994</td>\n",
       "    </tr>\n",
       "    <tr>\n",
       "      <th>liveness</th>\n",
       "      <td>32833.0</td>\n",
       "      <td>0.190176</td>\n",
       "      <td>0.154317</td>\n",
       "      <td>0.000000</td>\n",
       "      <td>0.0927</td>\n",
       "      <td>0.127000</td>\n",
       "      <td>0.24800</td>\n",
       "      <td>0.996</td>\n",
       "    </tr>\n",
       "    <tr>\n",
       "      <th>valence</th>\n",
       "      <td>32833.0</td>\n",
       "      <td>0.510561</td>\n",
       "      <td>0.233146</td>\n",
       "      <td>0.000000</td>\n",
       "      <td>0.3310</td>\n",
       "      <td>0.512000</td>\n",
       "      <td>0.69300</td>\n",
       "      <td>0.991</td>\n",
       "    </tr>\n",
       "    <tr>\n",
       "      <th>tempo</th>\n",
       "      <td>32833.0</td>\n",
       "      <td>120.881132</td>\n",
       "      <td>26.903624</td>\n",
       "      <td>0.000000</td>\n",
       "      <td>99.9600</td>\n",
       "      <td>121.984000</td>\n",
       "      <td>133.91800</td>\n",
       "      <td>239.440</td>\n",
       "    </tr>\n",
       "    <tr>\n",
       "      <th>duration_ms</th>\n",
       "      <td>32833.0</td>\n",
       "      <td>225799.811622</td>\n",
       "      <td>59834.006182</td>\n",
       "      <td>4000.000000</td>\n",
       "      <td>187819.0000</td>\n",
       "      <td>216000.000000</td>\n",
       "      <td>253585.00000</td>\n",
       "      <td>517810.000</td>\n",
       "    </tr>\n",
       "  </tbody>\n",
       "</table>\n",
       "</div>"
      ],
      "text/plain": [
       "                    count           mean           std          min  \\\n",
       "track_popularity  32833.0      42.477081     24.984074     0.000000   \n",
       "danceability      32833.0       0.654850      0.145085     0.000000   \n",
       "energy            32833.0       0.698619      0.180910     0.000175   \n",
       "key               32833.0       5.374471      3.611657     0.000000   \n",
       "loudness          32833.0      -6.719499      2.988436   -46.448000   \n",
       "mode              32833.0       0.565711      0.495671     0.000000   \n",
       "speechiness       32833.0       0.107068      0.101314     0.000000   \n",
       "acousticness      32833.0       0.175334      0.219633     0.000000   \n",
       "instrumentalness  32833.0       0.084747      0.224230     0.000000   \n",
       "liveness          32833.0       0.190176      0.154317     0.000000   \n",
       "valence           32833.0       0.510561      0.233146     0.000000   \n",
       "tempo             32833.0     120.881132     26.903624     0.000000   \n",
       "duration_ms       32833.0  225799.811622  59834.006182  4000.000000   \n",
       "\n",
       "                          25%            50%           75%         max  \n",
       "track_popularity      24.0000      45.000000      62.00000     100.000  \n",
       "danceability           0.5630       0.672000       0.76100       0.983  \n",
       "energy                 0.5810       0.721000       0.84000       1.000  \n",
       "key                    2.0000       6.000000       9.00000      11.000  \n",
       "loudness              -8.1710      -6.166000      -4.64500       1.275  \n",
       "mode                   0.0000       1.000000       1.00000       1.000  \n",
       "speechiness            0.0410       0.062500       0.13200       0.918  \n",
       "acousticness           0.0151       0.080400       0.25500       0.994  \n",
       "instrumentalness       0.0000       0.000016       0.00483       0.994  \n",
       "liveness               0.0927       0.127000       0.24800       0.996  \n",
       "valence                0.3310       0.512000       0.69300       0.991  \n",
       "tempo                 99.9600     121.984000     133.91800     239.440  \n",
       "duration_ms       187819.0000  216000.000000  253585.00000  517810.000  "
      ]
     },
     "execution_count": 305,
     "metadata": {},
     "output_type": "execute_result"
    }
   ],
   "source": [
    "df.describe().T"
   ]
  },
  {
   "cell_type": "markdown",
   "metadata": {},
   "source": [
    "From the look of it, each of the numerical columns has a meaningful data with its own distribution."
   ]
  },
  {
   "cell_type": "markdown",
   "metadata": {},
   "source": [
    "### Looking for missing values\n",
    "\n",
    "luckily enough, this data set has no missing values!"
   ]
  },
  {
   "cell_type": "code",
   "execution_count": 306,
   "metadata": {},
   "outputs": [
    {
     "name": "stdout",
     "output_type": "stream",
     "text": [
      "track_id                    0\n",
      "track_name                  5\n",
      "track_artist                5\n",
      "track_popularity            0\n",
      "track_album_id              0\n",
      "track_album_name            5\n",
      "track_album_release_date    0\n",
      "playlist_name               0\n",
      "playlist_id                 0\n",
      "playlist_genre              0\n",
      "playlist_subgenre           0\n",
      "danceability                0\n",
      "energy                      0\n",
      "key                         0\n",
      "loudness                    0\n",
      "mode                        0\n",
      "speechiness                 0\n",
      "acousticness                0\n",
      "instrumentalness            0\n",
      "liveness                    0\n",
      "valence                     0\n",
      "tempo                       0\n",
      "duration_ms                 0\n",
      "dtype: int64\n"
     ]
    }
   ],
   "source": [
    "# Check for missing values\n",
    "print(df.isnull().sum())  # Shows count of NaNs per column"
   ]
  },
  {
   "cell_type": "markdown",
   "metadata": {},
   "source": [
    "### Find duplicate tracks\n",
    "\n",
    "To avoid giving a single track more weight than the others, we want to find duplicated instances of the same track and make sure only one stays after the preparation.\n",
    "\n",
    "For now let just find the duplicated tracks without throwing them, since there is still data to extract from the duplicated rows as we will see shortly.\n",
    "\n",
    "We will filter the dataset using `df.duplicated`:"
   ]
  },
  {
   "cell_type": "code",
   "execution_count": 307,
   "metadata": {},
   "outputs": [
    {
     "data": {
      "text/html": [
       "<div>\n",
       "<style scoped>\n",
       "    .dataframe tbody tr th:only-of-type {\n",
       "        vertical-align: middle;\n",
       "    }\n",
       "\n",
       "    .dataframe tbody tr th {\n",
       "        vertical-align: top;\n",
       "    }\n",
       "\n",
       "    .dataframe thead th {\n",
       "        text-align: right;\n",
       "    }\n",
       "</style>\n",
       "<table border=\"1\" class=\"dataframe\">\n",
       "  <thead>\n",
       "    <tr style=\"text-align: right;\">\n",
       "      <th></th>\n",
       "      <th>track_id</th>\n",
       "      <th>track_name</th>\n",
       "      <th>track_artist</th>\n",
       "      <th>track_popularity</th>\n",
       "      <th>track_album_id</th>\n",
       "      <th>track_album_name</th>\n",
       "      <th>track_album_release_date</th>\n",
       "      <th>playlist_name</th>\n",
       "      <th>playlist_id</th>\n",
       "      <th>playlist_genre</th>\n",
       "      <th>...</th>\n",
       "      <th>key</th>\n",
       "      <th>loudness</th>\n",
       "      <th>mode</th>\n",
       "      <th>speechiness</th>\n",
       "      <th>acousticness</th>\n",
       "      <th>instrumentalness</th>\n",
       "      <th>liveness</th>\n",
       "      <th>valence</th>\n",
       "      <th>tempo</th>\n",
       "      <th>duration_ms</th>\n",
       "    </tr>\n",
       "  </thead>\n",
       "  <tbody>\n",
       "    <tr>\n",
       "      <th>32084</th>\n",
       "      <td>00Gu3RMpDW2vO9PjlMVFDL</td>\n",
       "      <td>Hide Away (feat. Envy Monroe)</td>\n",
       "      <td>Blasterjaxx</td>\n",
       "      <td>42</td>\n",
       "      <td>5pqG85igfoeWcCDIsSi9x7</td>\n",
       "      <td>Hide Away (feat. Envy Monroe)</td>\n",
       "      <td>2019-06-21</td>\n",
       "      <td>Epic Bass Drops | Best House Mixes</td>\n",
       "      <td>4IS7o1utOzhimFEFnj9gmu</td>\n",
       "      <td>edm</td>\n",
       "      <td>...</td>\n",
       "      <td>10</td>\n",
       "      <td>-4.894</td>\n",
       "      <td>1</td>\n",
       "      <td>0.0421</td>\n",
       "      <td>0.0249</td>\n",
       "      <td>0.000000</td>\n",
       "      <td>0.3610</td>\n",
       "      <td>0.134</td>\n",
       "      <td>130.001</td>\n",
       "      <td>188000</td>\n",
       "    </tr>\n",
       "    <tr>\n",
       "      <th>28696</th>\n",
       "      <td>00Gu3RMpDW2vO9PjlMVFDL</td>\n",
       "      <td>Hide Away (feat. Envy Monroe)</td>\n",
       "      <td>Blasterjaxx</td>\n",
       "      <td>42</td>\n",
       "      <td>5pqG85igfoeWcCDIsSi9x7</td>\n",
       "      <td>Hide Away (feat. Envy Monroe)</td>\n",
       "      <td>2019-06-21</td>\n",
       "      <td>Big Room EDM - by Spinnin' Records</td>\n",
       "      <td>7xWdFCrU5Gka6qp1ODrSdK</td>\n",
       "      <td>edm</td>\n",
       "      <td>...</td>\n",
       "      <td>10</td>\n",
       "      <td>-4.894</td>\n",
       "      <td>1</td>\n",
       "      <td>0.0421</td>\n",
       "      <td>0.0249</td>\n",
       "      <td>0.000000</td>\n",
       "      <td>0.3610</td>\n",
       "      <td>0.134</td>\n",
       "      <td>130.001</td>\n",
       "      <td>188000</td>\n",
       "    </tr>\n",
       "    <tr>\n",
       "      <th>23850</th>\n",
       "      <td>00QyLmjxaSEE8qIZQjBXBj</td>\n",
       "      <td>We Own It (Fast &amp; Furious)</td>\n",
       "      <td>2 Chainz</td>\n",
       "      <td>59</td>\n",
       "      <td>1jg2UPoSAr7CDPsEXcabo1</td>\n",
       "      <td>Fast &amp; Furious 6</td>\n",
       "      <td>2013-01-01</td>\n",
       "      <td>Today's Hits (Clean)</td>\n",
       "      <td>7ENISpOJhocpMJVcGb0qcT</td>\n",
       "      <td>r&amp;b</td>\n",
       "      <td>...</td>\n",
       "      <td>8</td>\n",
       "      <td>-4.573</td>\n",
       "      <td>1</td>\n",
       "      <td>0.4080</td>\n",
       "      <td>0.0521</td>\n",
       "      <td>0.000000</td>\n",
       "      <td>0.0568</td>\n",
       "      <td>0.552</td>\n",
       "      <td>171.966</td>\n",
       "      <td>227893</td>\n",
       "    </tr>\n",
       "    <tr>\n",
       "      <th>28968</th>\n",
       "      <td>00QyLmjxaSEE8qIZQjBXBj</td>\n",
       "      <td>We Own It (Fast &amp; Furious)</td>\n",
       "      <td>2 Chainz</td>\n",
       "      <td>59</td>\n",
       "      <td>1jg2UPoSAr7CDPsEXcabo1</td>\n",
       "      <td>Fast &amp; Furious 6</td>\n",
       "      <td>2013-01-01</td>\n",
       "      <td>Locker Room</td>\n",
       "      <td>37i9dQZF1DX8SaiEt4OVJw</td>\n",
       "      <td>edm</td>\n",
       "      <td>...</td>\n",
       "      <td>8</td>\n",
       "      <td>-4.573</td>\n",
       "      <td>1</td>\n",
       "      <td>0.4080</td>\n",
       "      <td>0.0521</td>\n",
       "      <td>0.000000</td>\n",
       "      <td>0.0568</td>\n",
       "      <td>0.552</td>\n",
       "      <td>171.966</td>\n",
       "      <td>227893</td>\n",
       "    </tr>\n",
       "    <tr>\n",
       "      <th>9387</th>\n",
       "      <td>00QyLmjxaSEE8qIZQjBXBj</td>\n",
       "      <td>We Own It (Fast &amp; Furious)</td>\n",
       "      <td>2 Chainz</td>\n",
       "      <td>59</td>\n",
       "      <td>1jg2UPoSAr7CDPsEXcabo1</td>\n",
       "      <td>Fast &amp; Furious 6</td>\n",
       "      <td>2013-01-01</td>\n",
       "      <td>RAP Gangsta</td>\n",
       "      <td>1Z1gW89x4MSBjkvVjGg7DQ</td>\n",
       "      <td>rap</td>\n",
       "      <td>...</td>\n",
       "      <td>8</td>\n",
       "      <td>-4.573</td>\n",
       "      <td>1</td>\n",
       "      <td>0.4080</td>\n",
       "      <td>0.0521</td>\n",
       "      <td>0.000000</td>\n",
       "      <td>0.0568</td>\n",
       "      <td>0.552</td>\n",
       "      <td>171.966</td>\n",
       "      <td>227893</td>\n",
       "    </tr>\n",
       "    <tr>\n",
       "      <th>...</th>\n",
       "      <td>...</td>\n",
       "      <td>...</td>\n",
       "      <td>...</td>\n",
       "      <td>...</td>\n",
       "      <td>...</td>\n",
       "      <td>...</td>\n",
       "      <td>...</td>\n",
       "      <td>...</td>\n",
       "      <td>...</td>\n",
       "      <td>...</td>\n",
       "      <td>...</td>\n",
       "      <td>...</td>\n",
       "      <td>...</td>\n",
       "      <td>...</td>\n",
       "      <td>...</td>\n",
       "      <td>...</td>\n",
       "      <td>...</td>\n",
       "      <td>...</td>\n",
       "      <td>...</td>\n",
       "      <td>...</td>\n",
       "      <td>...</td>\n",
       "    </tr>\n",
       "    <tr>\n",
       "      <th>32074</th>\n",
       "      <td>7zHrHnVSQwI95FGHewXDl8</td>\n",
       "      <td>Do Bad Well (feat. Nevve)</td>\n",
       "      <td>KSHMR</td>\n",
       "      <td>62</td>\n",
       "      <td>3BAigRfKg2iyWJuWlZCZZQ</td>\n",
       "      <td>Do Bad Well (feat. Nevve)</td>\n",
       "      <td>2019-10-11</td>\n",
       "      <td>Epic Bass Drops | Best House Mixes</td>\n",
       "      <td>4IS7o1utOzhimFEFnj9gmu</td>\n",
       "      <td>edm</td>\n",
       "      <td>...</td>\n",
       "      <td>5</td>\n",
       "      <td>-4.755</td>\n",
       "      <td>1</td>\n",
       "      <td>0.1130</td>\n",
       "      <td>0.0512</td>\n",
       "      <td>0.000315</td>\n",
       "      <td>0.2340</td>\n",
       "      <td>0.415</td>\n",
       "      <td>127.964</td>\n",
       "      <td>204375</td>\n",
       "    </tr>\n",
       "    <tr>\n",
       "      <th>28932</th>\n",
       "      <td>7zHrHnVSQwI95FGHewXDl8</td>\n",
       "      <td>Do Bad Well (feat. Nevve)</td>\n",
       "      <td>KSHMR</td>\n",
       "      <td>62</td>\n",
       "      <td>3BAigRfKg2iyWJuWlZCZZQ</td>\n",
       "      <td>Do Bad Well (feat. Nevve)</td>\n",
       "      <td>2019-10-11</td>\n",
       "      <td>Bounce United</td>\n",
       "      <td>08QTrfsYYouffgnPjmllAQ</td>\n",
       "      <td>edm</td>\n",
       "      <td>...</td>\n",
       "      <td>5</td>\n",
       "      <td>-4.755</td>\n",
       "      <td>1</td>\n",
       "      <td>0.1130</td>\n",
       "      <td>0.0512</td>\n",
       "      <td>0.000315</td>\n",
       "      <td>0.2340</td>\n",
       "      <td>0.415</td>\n",
       "      <td>127.964</td>\n",
       "      <td>204375</td>\n",
       "    </tr>\n",
       "    <tr>\n",
       "      <th>2850</th>\n",
       "      <td>7zsXy7vlHdItvUSH8EwQss</td>\n",
       "      <td>Cold Water</td>\n",
       "      <td>Major Lazer</td>\n",
       "      <td>69</td>\n",
       "      <td>3Kmo85mapQ2wTaCAHBkKsK</td>\n",
       "      <td>Cold Water</td>\n",
       "      <td>2016-07-22</td>\n",
       "      <td>ElectroPop 2020</td>\n",
       "      <td>4frhr6RQM2fMOm2mpvOVo6</td>\n",
       "      <td>pop</td>\n",
       "      <td>...</td>\n",
       "      <td>6</td>\n",
       "      <td>-5.092</td>\n",
       "      <td>0</td>\n",
       "      <td>0.0432</td>\n",
       "      <td>0.0736</td>\n",
       "      <td>0.000000</td>\n",
       "      <td>0.1560</td>\n",
       "      <td>0.501</td>\n",
       "      <td>92.943</td>\n",
       "      <td>185360</td>\n",
       "    </tr>\n",
       "    <tr>\n",
       "      <th>30939</th>\n",
       "      <td>7zsXy7vlHdItvUSH8EwQss</td>\n",
       "      <td>Cold Water</td>\n",
       "      <td>Major Lazer</td>\n",
       "      <td>69</td>\n",
       "      <td>3Kmo85mapQ2wTaCAHBkKsK</td>\n",
       "      <td>Cold Water</td>\n",
       "      <td>2016-07-22</td>\n",
       "      <td>EDM/POP</td>\n",
       "      <td>6gHk5RFrnALbDNJdaXKivi</td>\n",
       "      <td>edm</td>\n",
       "      <td>...</td>\n",
       "      <td>6</td>\n",
       "      <td>-5.092</td>\n",
       "      <td>0</td>\n",
       "      <td>0.0432</td>\n",
       "      <td>0.0736</td>\n",
       "      <td>0.000000</td>\n",
       "      <td>0.1560</td>\n",
       "      <td>0.501</td>\n",
       "      <td>92.943</td>\n",
       "      <td>185360</td>\n",
       "    </tr>\n",
       "    <tr>\n",
       "      <th>20517</th>\n",
       "      <td>7zsXy7vlHdItvUSH8EwQss</td>\n",
       "      <td>Cold Water</td>\n",
       "      <td>Major Lazer</td>\n",
       "      <td>69</td>\n",
       "      <td>3Kmo85mapQ2wTaCAHBkKsK</td>\n",
       "      <td>Cold Water</td>\n",
       "      <td>2016-07-22</td>\n",
       "      <td>Latin/Hip Hop/Dancehall/Soca</td>\n",
       "      <td>2rg9LCyvaMQvnCE2hVndpR</td>\n",
       "      <td>latin</td>\n",
       "      <td>...</td>\n",
       "      <td>6</td>\n",
       "      <td>-5.092</td>\n",
       "      <td>0</td>\n",
       "      <td>0.0432</td>\n",
       "      <td>0.0736</td>\n",
       "      <td>0.000000</td>\n",
       "      <td>0.1560</td>\n",
       "      <td>0.501</td>\n",
       "      <td>92.943</td>\n",
       "      <td>185360</td>\n",
       "    </tr>\n",
       "  </tbody>\n",
       "</table>\n",
       "<p>7643 rows × 23 columns</p>\n",
       "</div>"
      ],
      "text/plain": [
       "                     track_id                     track_name track_artist  \\\n",
       "32084  00Gu3RMpDW2vO9PjlMVFDL  Hide Away (feat. Envy Monroe)  Blasterjaxx   \n",
       "28696  00Gu3RMpDW2vO9PjlMVFDL  Hide Away (feat. Envy Monroe)  Blasterjaxx   \n",
       "23850  00QyLmjxaSEE8qIZQjBXBj     We Own It (Fast & Furious)     2 Chainz   \n",
       "28968  00QyLmjxaSEE8qIZQjBXBj     We Own It (Fast & Furious)     2 Chainz   \n",
       "9387   00QyLmjxaSEE8qIZQjBXBj     We Own It (Fast & Furious)     2 Chainz   \n",
       "...                       ...                            ...          ...   \n",
       "32074  7zHrHnVSQwI95FGHewXDl8      Do Bad Well (feat. Nevve)        KSHMR   \n",
       "28932  7zHrHnVSQwI95FGHewXDl8      Do Bad Well (feat. Nevve)        KSHMR   \n",
       "2850   7zsXy7vlHdItvUSH8EwQss                     Cold Water  Major Lazer   \n",
       "30939  7zsXy7vlHdItvUSH8EwQss                     Cold Water  Major Lazer   \n",
       "20517  7zsXy7vlHdItvUSH8EwQss                     Cold Water  Major Lazer   \n",
       "\n",
       "       track_popularity          track_album_id  \\\n",
       "32084                42  5pqG85igfoeWcCDIsSi9x7   \n",
       "28696                42  5pqG85igfoeWcCDIsSi9x7   \n",
       "23850                59  1jg2UPoSAr7CDPsEXcabo1   \n",
       "28968                59  1jg2UPoSAr7CDPsEXcabo1   \n",
       "9387                 59  1jg2UPoSAr7CDPsEXcabo1   \n",
       "...                 ...                     ...   \n",
       "32074                62  3BAigRfKg2iyWJuWlZCZZQ   \n",
       "28932                62  3BAigRfKg2iyWJuWlZCZZQ   \n",
       "2850                 69  3Kmo85mapQ2wTaCAHBkKsK   \n",
       "30939                69  3Kmo85mapQ2wTaCAHBkKsK   \n",
       "20517                69  3Kmo85mapQ2wTaCAHBkKsK   \n",
       "\n",
       "                    track_album_name track_album_release_date  \\\n",
       "32084  Hide Away (feat. Envy Monroe)               2019-06-21   \n",
       "28696  Hide Away (feat. Envy Monroe)               2019-06-21   \n",
       "23850               Fast & Furious 6               2013-01-01   \n",
       "28968               Fast & Furious 6               2013-01-01   \n",
       "9387                Fast & Furious 6               2013-01-01   \n",
       "...                              ...                      ...   \n",
       "32074      Do Bad Well (feat. Nevve)               2019-10-11   \n",
       "28932      Do Bad Well (feat. Nevve)               2019-10-11   \n",
       "2850                      Cold Water               2016-07-22   \n",
       "30939                     Cold Water               2016-07-22   \n",
       "20517                     Cold Water               2016-07-22   \n",
       "\n",
       "                            playlist_name             playlist_id  \\\n",
       "32084  Epic Bass Drops | Best House Mixes  4IS7o1utOzhimFEFnj9gmu   \n",
       "28696  Big Room EDM - by Spinnin' Records  7xWdFCrU5Gka6qp1ODrSdK   \n",
       "23850                Today's Hits (Clean)  7ENISpOJhocpMJVcGb0qcT   \n",
       "28968                         Locker Room  37i9dQZF1DX8SaiEt4OVJw   \n",
       "9387                          RAP Gangsta  1Z1gW89x4MSBjkvVjGg7DQ   \n",
       "...                                   ...                     ...   \n",
       "32074  Epic Bass Drops | Best House Mixes  4IS7o1utOzhimFEFnj9gmu   \n",
       "28932                       Bounce United  08QTrfsYYouffgnPjmllAQ   \n",
       "2850                      ElectroPop 2020  4frhr6RQM2fMOm2mpvOVo6   \n",
       "30939                             EDM/POP  6gHk5RFrnALbDNJdaXKivi   \n",
       "20517        Latin/Hip Hop/Dancehall/Soca  2rg9LCyvaMQvnCE2hVndpR   \n",
       "\n",
       "      playlist_genre  ... key  loudness  mode  speechiness  acousticness  \\\n",
       "32084            edm  ...  10    -4.894     1       0.0421        0.0249   \n",
       "28696            edm  ...  10    -4.894     1       0.0421        0.0249   \n",
       "23850            r&b  ...   8    -4.573     1       0.4080        0.0521   \n",
       "28968            edm  ...   8    -4.573     1       0.4080        0.0521   \n",
       "9387             rap  ...   8    -4.573     1       0.4080        0.0521   \n",
       "...              ...  ...  ..       ...   ...          ...           ...   \n",
       "32074            edm  ...   5    -4.755     1       0.1130        0.0512   \n",
       "28932            edm  ...   5    -4.755     1       0.1130        0.0512   \n",
       "2850             pop  ...   6    -5.092     0       0.0432        0.0736   \n",
       "30939            edm  ...   6    -5.092     0       0.0432        0.0736   \n",
       "20517          latin  ...   6    -5.092     0       0.0432        0.0736   \n",
       "\n",
       "       instrumentalness  liveness  valence    tempo  duration_ms  \n",
       "32084          0.000000    0.3610    0.134  130.001       188000  \n",
       "28696          0.000000    0.3610    0.134  130.001       188000  \n",
       "23850          0.000000    0.0568    0.552  171.966       227893  \n",
       "28968          0.000000    0.0568    0.552  171.966       227893  \n",
       "9387           0.000000    0.0568    0.552  171.966       227893  \n",
       "...                 ...       ...      ...      ...          ...  \n",
       "32074          0.000315    0.2340    0.415  127.964       204375  \n",
       "28932          0.000315    0.2340    0.415  127.964       204375  \n",
       "2850           0.000000    0.1560    0.501   92.943       185360  \n",
       "30939          0.000000    0.1560    0.501   92.943       185360  \n",
       "20517          0.000000    0.1560    0.501   92.943       185360  \n",
       "\n",
       "[7643 rows x 23 columns]"
      ]
     },
     "execution_count": 307,
     "metadata": {},
     "output_type": "execute_result"
    }
   ],
   "source": [
    "# Identify duplicate track_id values\n",
    "duplicates = df[df.duplicated(subset=[\"track_id\"], keep=False)]\n",
    "\n",
    "# Sort by track_id\n",
    "duplicates_sorted = duplicates.sort_values(by=\"track_id\")\n",
    "\n",
    "# Save the sorted duplicates to a new CSV file (optional)\n",
    "duplicates_sorted.to_csv(\"data/duplicate_tracks_sorted.csv\", index=False)\n",
    "\n",
    "# Display the sorted duplicate rows\n",
    "duplicates_sorted"
   ]
  },
  {
   "cell_type": "markdown",
   "metadata": {},
   "source": [
    "### Examining the duplicate values\n",
    "\n",
    "A short look at the `duplicated` dataframe will show us that even though we filtered for duplicated `track_id` values, all `track_*` and `album_*` values are duplicated as well for the same `track_id` (and the track musical properties).\n",
    "\n",
    "The differences are in the `playlist` features - the same track may appear in different playlists - creating duplicate entries for the track.\n",
    "\n",
    "This is important, because it means all we need to do to \"merge\" the duplicated entries is to handle just the few `playlist` features."
   ]
  },
  {
   "cell_type": "markdown",
   "metadata": {},
   "source": [
    "## Clean Text\n",
    "\n",
    "In this section we will remove free-text categories to a separate `df_text` dataframe.\n",
    "This is crucial for the `playlist_name` column as its value may contain Emojis and other wildcard characters, but it is also useful to deal with `track_name` and `album_name`, and since those names are uniquley belongs to an ID we aren't loosing this data - we can always join back the tables based on the ID!"
   ]
  },
  {
   "cell_type": "code",
   "execution_count": 308,
   "metadata": {},
   "outputs": [],
   "source": [
    "df_text = df[['track_id', 'track_name', 'track_artist', 'track_album_name', 'playlist_name']].copy()\n",
    "df = df.drop(columns=['track_name', 'track_artist', 'track_album_name', 'playlist_name'])"
   ]
  },
  {
   "cell_type": "markdown",
   "metadata": {},
   "source": [
    "## Drop `playlist_id`\n",
    "\n",
    "Since we are predicting the **track** popularity, we have no need to know about the playlist.\n",
    "\n",
    "Sure, we will extract useful data like genre from the playlist properties, but when it comes to playlist name or ID - those values are not giving us any value to the question at hand (track popularity).\n",
    "\n",
    "And yet, while the ID is not interesting, counting the appearances of each track in the provided playlists may be useful and predict popularity.\n",
    "\n",
    "Lets add a column for number of playlist appearances:"
   ]
  },
  {
   "cell_type": "code",
   "execution_count": 309,
   "metadata": {},
   "outputs": [],
   "source": [
    "df[\"playlist_count\"] = df.groupby(\"track_id\")[\"track_id\"].transform(\"count\")"
   ]
  },
  {
   "cell_type": "markdown",
   "metadata": {},
   "source": [
    "Now we can drop the playlist ID from the `df`:"
   ]
  },
  {
   "cell_type": "code",
   "execution_count": 310,
   "metadata": {},
   "outputs": [],
   "source": [
    "df = df.drop(columns=['playlist_id'])"
   ]
  },
  {
   "cell_type": "markdown",
   "metadata": {},
   "source": [
    "## Genre encoding"
   ]
  },
  {
   "cell_type": "markdown",
   "metadata": {},
   "source": [
    "### Motivation\n",
    "\n",
    "After handling the `playlist_name` and `playlist_genre` column, all that left to deal with are the genres columns - and we can start merging the duplicated rows!\n",
    "\n",
    "Tracks appears in multiple playlists, usually have multiple associated genres - one from each playlist. By encoding the generes we will get replace the `playlist_genre` column with encoded colmuns that will make it possible to merge the rows without loosing data."
   ]
  },
  {
   "cell_type": "markdown",
   "metadata": {},
   "source": [
    "### Genres overview\n",
    "\n",
    "There are two genres columns - `playlist_genre` and `playlist_subgenre`. First lets get some idea on the data stored in those columns:"
   ]
  },
  {
   "cell_type": "code",
   "execution_count": 311,
   "metadata": {},
   "outputs": [
    {
     "name": "stdout",
     "output_type": "stream",
     "text": [
      "Playlist Genre Counts:\n"
     ]
    },
    {
     "data": {
      "text/plain": [
       "playlist_genre\n",
       "edm      6043\n",
       "rap      5746\n",
       "pop      5507\n",
       "r&b      5431\n",
       "latin    5155\n",
       "rock     4951\n",
       "Name: count, dtype: int64"
      ]
     },
     "metadata": {},
     "output_type": "display_data"
    },
    {
     "name": "stdout",
     "output_type": "stream",
     "text": [
      "There are 6 MAIN genres\n",
      "\n",
      "Playlist Subgenre Counts:\n"
     ]
    },
    {
     "data": {
      "text/plain": [
       "playlist_subgenre\n",
       "progressive electro house    1809\n",
       "southern hip hop             1675\n",
       "indie poptimism              1672\n",
       "latin hip hop                1656\n",
       "neo soul                     1637\n",
       "pop edm                      1517\n",
       "electro house                1511\n",
       "hard rock                    1485\n",
       "gangster rap                 1458\n",
       "electropop                   1408\n",
       "urban contemporary           1405\n",
       "hip hop                      1322\n",
       "dance pop                    1298\n",
       "classic rock                 1296\n",
       "trap                         1291\n",
       "tropical                     1288\n",
       "latin pop                    1262\n",
       "hip pop                      1256\n",
       "big room                     1206\n",
       "new jack swing               1133\n",
       "post-teen pop                1129\n",
       "permanent wave               1105\n",
       "album rock                   1065\n",
       "reggaeton                     949\n",
       "Name: count, dtype: int64"
      ]
     },
     "metadata": {},
     "output_type": "display_data"
    },
    {
     "name": "stdout",
     "output_type": "stream",
     "text": [
      "There are 24 SUB genres\n"
     ]
    }
   ],
   "source": [
    "genre_counts = df['playlist_genre'].value_counts()\n",
    "subgenre_counts = df['playlist_subgenre'].value_counts()\n",
    "\n",
    "print(\"Playlist Genre Counts:\")\n",
    "display(genre_counts)\n",
    "print(f\"There are {len(genre_counts)} MAIN genres\") # 6\n",
    "\n",
    "print(\"\\nPlaylist Subgenre Counts:\")\n",
    "display(subgenre_counts)\n",
    "print(f\"There are {len(subgenre_counts)} SUB genres\") # 24"
   ]
  },
  {
   "cell_type": "markdown",
   "metadata": {},
   "source": [
    "### Strategy\n",
    "\n",
    "There are six main genres, and 24 subgenres.\n",
    "\n",
    "We are going to do the encoding in **two phases**:\n",
    "\n",
    "1. We will use dummy encoding for the six main geners-\n",
    "   we will create six new binary categories, each represents whether or not\n",
    "   the track belongs to the genre.\n",
    "\n",
    "   Duplicate tracks with different `playlist_genre` will be set to `1` in all associated genres.\n",
    "\n",
    "2. We will not just throw the sub genres as we might find some usable information in there.\n",
    "   \n",
    "   For example, if a track has a main genre `rap` but a sub-genre **`hip pop`** (not **`hip hop`**!)\n",
    "   we can use this information to associtae the track with the `pop` genre as well (the `pop` dummy category will be `1`).\n",
    "\n",
    "3. I will create a simple report to show how much the second phase changed the data."
   ]
  },
  {
   "cell_type": "markdown",
   "metadata": {},
   "source": [
    "### Encoding Genres\n",
    "\n",
    "Lets start with the dummy-encoding of each genre:"
   ]
  },
  {
   "cell_type": "code",
   "execution_count": 312,
   "metadata": {},
   "outputs": [],
   "source": [
    "# Perform one-hot encoding\n",
    "df_genre_encoded = pd.get_dummies(df['playlist_genre'], dtype=int)\n",
    "\n",
    "# Merge with original dataframe\n",
    "df = pd.concat([df, df_genre_encoded], axis=1)\n",
    "\n",
    "# Drop the original column\n",
    "df = df.drop(columns=['playlist_genre'])\n"
   ]
  },
  {
   "cell_type": "markdown",
   "metadata": {},
   "source": [
    "As mentioned earlier, I want to see how much the second encoding phase changed the data, so I will save the sum of \"1\" in each genre after the first phase.\n",
    "\n",
    "To get a valid report, we need to aggregate the duplicate rows and count their \"1\" in each genre.\n",
    "Since we didn't handle the subgenre yet, aggregating the original `df` will loose us some subgenre data - so we do this aggreagation in a copied dataset.\n",
    "\n",
    "Lets create the report:"
   ]
  },
  {
   "cell_type": "code",
   "execution_count": 313,
   "metadata": {},
   "outputs": [
    {
     "name": "stdout",
     "output_type": "stream",
     "text": [
      "{'edm': 5537, 'rap': 5486, 'pop': 5132, 'r&b': 5138, 'latin': 4641, 'rock': 4451}\n"
     ]
    }
   ],
   "source": [
    "# Handle duplicate tracks by aggregating (assuming 'track_id' uniquely identifies tracks)\n",
    "df_copy = df.groupby('track_id', as_index=False).max()\n",
    "\n",
    "# Count the number of tracks where each genre dummy column is 1\n",
    "genre_track_counts = df_copy[['edm', 'rap', 'pop', 'r&b', 'latin', 'rock']].sum().to_dict()\n",
    "\n",
    "# Print the results\n",
    "print(genre_track_counts)"
   ]
  },
  {
   "cell_type": "markdown",
   "metadata": {},
   "source": [
    "### Handling sub-genres\n",
    "\n",
    "As mentioned before, the sub genre column can help us more genres the track is associated with. The `playlist_genre` column force each track to have a single genre, but a track with sub-genre `pop edm` undoubtly belongs to both genres. And now after we have done dummy encoding we can set \"1\" to both genres - this is a some valuable data!\n",
    "\n",
    "Below you can find a dictionary mapping a sub-genre to its main genres:"
   ]
  },
  {
   "cell_type": "code",
   "execution_count": 314,
   "metadata": {},
   "outputs": [],
   "source": [
    "subgenre_to_genre = {\n",
    "    \"progressive electro house\": [\"edm\"],\n",
    "    \"southern hip hop\": [\"rap\"],\n",
    "    \"indie poptimism\": [\"pop\"],\n",
    "    \"latin hip hop\": [\"latin\", \"rap\"],\n",
    "    \"neo soul\": [\"r&b\"],\n",
    "    \"pop edm\": [\"pop\", \"edm\"],\n",
    "    \"electro house\": [\"edm\"],\n",
    "    \"hard rock\": [\"rock\"],\n",
    "    \"gangster rap\": [\"rap\"],\n",
    "    \"electropop\": [\"pop\", \"edm\"],\n",
    "    \"urban contemporary\": [\"r&b\"],\n",
    "    \"hip hop\": [\"rap\"],\n",
    "    \"dance pop\": [\"pop\"],\n",
    "    \"classic rock\": [\"rock\"],\n",
    "    \"trap\": [\"rap\"],\n",
    "    \"tropical\": [\"latin\"],\n",
    "    \"latin pop\": [\"latin\", \"pop\"],\n",
    "    \"hip pop\": [\"pop\", \"rap\"],\n",
    "    \"big room\": [\"edm\"],\n",
    "    \"new jack swing\": [\"r&b\"],\n",
    "    \"post-teen pop\": [\"pop\"],\n",
    "    \"permanent wave\": [\"rock\"],\n",
    "    \"album rock\": [\"rock\"],\n",
    "    \"reggaeton\": [\"latin\"]\n",
    "}"
   ]
  },
  {
   "cell_type": "markdown",
   "metadata": {},
   "source": [
    "Now for each track we are gonne make sure that **all** associated genre dummies are set to `1` based on the sub-genre mapping:"
   ]
  },
  {
   "cell_type": "code",
   "execution_count": 315,
   "metadata": {},
   "outputs": [],
   "source": [
    "# Ensure all tracks have the correct genre dummies based on their subgenre\n",
    "for subgenre, main_genres in subgenre_to_genre.items():\n",
    "    df.loc[df['playlist_subgenre'] == subgenre, main_genres] = 1"
   ]
  },
  {
   "cell_type": "markdown",
   "metadata": {},
   "source": [
    "Next, we can finally aggregate the duplicated data!"
   ]
  },
  {
   "cell_type": "code",
   "execution_count": 316,
   "metadata": {},
   "outputs": [],
   "source": [
    "df = df.groupby('track_id', as_index=False).max()"
   ]
  },
  {
   "cell_type": "markdown",
   "metadata": {},
   "source": [
    "Last, lets count the `1`'s in each genre after updating the dummy colmuns using the sub-genre data:"
   ]
  },
  {
   "cell_type": "code",
   "execution_count": 317,
   "metadata": {},
   "outputs": [
    {
     "name": "stdout",
     "output_type": "stream",
     "text": [
      "{'edm': 6808, 'rap': 8078, 'pop': 8339, 'r&b': 5138, 'latin': 4641, 'rock': 4451}\n"
     ]
    }
   ],
   "source": [
    "# Count the number of tracks where each genre dummy column is 1\n",
    "genre_subgenre_track_counts = df[['edm', 'rap', 'pop', 'r&b', 'latin', 'rock']].sum().to_dict()\n",
    "\n",
    "# Print the results\n",
    "print(genre_subgenre_track_counts)"
   ]
  },
  {
   "cell_type": "markdown",
   "metadata": {},
   "source": [
    "\n",
    "\n",
    "Lets show on a Bar Plot the amount of tracks in each genre before/after extracting additional genres from the sub-genres:\n",
    "\n",
    "*(I know i promised no visual EDA, but this is more about visualizing the changes in the dataset, not the data itself, so frogive me this time...)*"
   ]
  },
  {
   "cell_type": "code",
   "execution_count": 318,
   "metadata": {},
   "outputs": [
    {
     "data": {
      "image/png": "[encoded data removed]",
      "text/plain": [
       "<Figure size 1000x600 with 1 Axes>"
      ]
     },
     "metadata": {},
     "output_type": "display_data"
    }
   ],
   "source": [
    "import matplotlib.pyplot as plt\n",
    "import numpy as np\n",
    "\n",
    "# Data\n",
    "genres = ['edm', 'rap', 'pop', 'r&b', 'latin', 'rock']\n",
    "\n",
    "# Convert to lists\n",
    "before_values = np.array([genre_track_counts[g] for g in genres])\n",
    "after_values = np.array([genre_subgenre_track_counts[g] for g in genres])\n",
    "\n",
    "# Compute the difference (increase)\n",
    "increase_values = after_values - before_values\n",
    "\n",
    "# Plot\n",
    "fig, ax = plt.subplots(figsize=(10, 6))\n",
    "\n",
    "# Base bars (before modification)\n",
    "ax.bar(genres, before_values, color='royalblue', label='Before')\n",
    "\n",
    "# Stacked bars (increase after modification)\n",
    "ax.bar(genres, increase_values, bottom=before_values, color='orange', label='Added')\n",
    "\n",
    "# Labels and formatting\n",
    "ax.set_ylabel(\"Track Count\")\n",
    "ax.set_title(\"Impact of extracting additional genres from the subgenre column\")\n",
    "ax.legend()\n",
    "ax.grid(axis='y', linestyle='--', alpha=0.7)\n",
    "\n",
    "# Show the plot\n",
    "plt.show()\n"
   ]
  },
  {
   "cell_type": "markdown",
   "metadata": {},
   "source": [
    "## Album release date\n",
    "\n",
    "An obvious yet important data preparation step is to convert dates stored as `object` (string) to type `datetime`. In our dataset the `track_album_release_date` column is a relevant case. Lets change this column to be type `datetime`:"
   ]
  },
  {
   "cell_type": "code",
   "execution_count": 319,
   "metadata": {},
   "outputs": [],
   "source": [
    "# Convert to datetime, handling cases with only a year\n",
    "def convert_dates(date):\n",
    "    if len(date) == 4:  # If it's just a year\n",
    "        return pd.to_datetime(date + '-01-01')  # Assume January 1st as the default\n",
    "    return pd.to_datetime(date, errors='coerce')  # Convert normally, setting invalid values to NaT\n",
    "\n",
    "df['track_album_release_date'] = df['track_album_release_date'].apply(convert_dates)"
   ]
  },
  {
   "cell_type": "markdown",
   "metadata": {},
   "source": [
    "The `def convert_dates()` is used for an edge case where the release date is just a 4-letter year notation, without day and month.\n",
    "\n",
    "I set as a default for those cases that the date should be 01/01 of that particular year.\n",
    "\n",
    "Notice how I didn't break down the `datetime` into seperate year, month, day colums - as this will be considered feature engineering and we are still at the data preparation part of this project."
   ]
  },
  {
   "cell_type": "markdown",
   "metadata": {},
   "source": [
    "## Save as pickle and CSV"
   ]
  },
  {
   "cell_type": "markdown",
   "metadata": {},
   "source": [
    "We finished the data preparation part! It is time to store the df as a pickle file for the next chapter :-)"
   ]
  },
  {
   "cell_type": "code",
   "execution_count": 320,
   "metadata": {},
   "outputs": [],
   "source": [
    "df.to_pickle('pickle/data_preparation_05_03_25.pkl')"
   ]
  },
  {
   "cell_type": "markdown",
   "metadata": {},
   "source": [
    "Since `.pkl` files are large binary files, it is genrally not recommended to store them in a git repository.\n",
    "\n",
    "Since my project is being managed with git, I will create a `.csv` file which is large but at least textual, and this file will be part of the git repo:"
   ]
  },
  {
   "cell_type": "code",
   "execution_count": 321,
   "metadata": {},
   "outputs": [],
   "source": [
    "df.to_csv('data/01_data_preparation_05_03_25.csv')"
   ]
  },
  {
   "cell_type": "markdown",
   "metadata": {},
   "source": [
    "## Summary\n",
    "\n"
   ]
  },
  {
   "cell_type": "markdown",
   "metadata": {},
   "source": [
    "Lets summarize the main actions I took in the data preparation process:\n",
    "\n",
    "1. Got a first impression of the dataset: shape, columns, looked for missing and duplicate values.\n",
    "2. Moved textual columns to a separate `df_text` column.\n",
    "3. Droped `playlist_id` and instead count `playlist_count` appearances.\n",
    "4. Encoded the `playlist_genre` into dummy columns and extracted additional genre association from `playlist_subgenre`\n",
    "5. Converted `track_album_release_date` into a `datetime` type\n",
    "6. Saved the result `df` as a pickle for future use, and also as CSV for git."
   ]
  },
  {
   "cell_type": "markdown",
   "metadata": {},
   "source": [
    "### Processed Dataset Overview\n",
    "\n",
    "Lets look at the dataset characteristics after the data preparation process:"
   ]
  },
  {
   "cell_type": "code",
   "execution_count": 322,
   "metadata": {},
   "outputs": [
    {
     "data": {
      "text/plain": [
       "(28356, 24)"
      ]
     },
     "metadata": {},
     "output_type": "display_data"
    },
    {
     "name": "stdout",
     "output_type": "stream",
     "text": [
      "<class 'pandas.core.frame.DataFrame'>\n",
      "RangeIndex: 28356 entries, 0 to 28355\n",
      "Data columns (total 24 columns):\n",
      " #   Column                    Non-Null Count  Dtype         \n",
      "---  ------                    --------------  -----         \n",
      " 0   track_id                  28356 non-null  object        \n",
      " 1   track_popularity          28356 non-null  int64         \n",
      " 2   track_album_id            28356 non-null  object        \n",
      " 3   track_album_release_date  28356 non-null  datetime64[ns]\n",
      " 4   playlist_subgenre         28356 non-null  object        \n",
      " 5   danceability              28356 non-null  float64       \n",
      " 6   energy                    28356 non-null  float64       \n",
      " 7   key                       28356 non-null  int64         \n",
      " 8   loudness                  28356 non-null  float64       \n",
      " 9   mode                      28356 non-null  int64         \n",
      " 10  speechiness               28356 non-null  float64       \n",
      " 11  acousticness              28356 non-null  float64       \n",
      " 12  instrumentalness          28356 non-null  float64       \n",
      " 13  liveness                  28356 non-null  float64       \n",
      " 14  valence                   28356 non-null  float64       \n",
      " 15  tempo                     28356 non-null  float64       \n",
      " 16  duration_ms               28356 non-null  int64         \n",
      " 17  playlist_count            28356 non-null  int64         \n",
      " 18  edm                       28356 non-null  int64         \n",
      " 19  latin                     28356 non-null  int64         \n",
      " 20  pop                       28356 non-null  int64         \n",
      " 21  r&b                       28356 non-null  int64         \n",
      " 22  rap                       28356 non-null  int64         \n",
      " 23  rock                      28356 non-null  int64         \n",
      "dtypes: datetime64[ns](1), float64(9), int64(11), object(3)\n",
      "memory usage: 5.2+ MB\n"
     ]
    }
   ],
   "source": [
    "display(df.shape)\n",
    "\n",
    "df.info()"
   ]
  },
  {
   "attachments": {
    "tobecontinued.jpg": {
     "image/jpeg": "[encoded data removed]"
    }
   },
   "cell_type": "markdown",
   "metadata": {},
   "source": [
    "![tobecontinued.jpg](attachment:tobecontinued.jpg)"
   ]
  }
 ],
 "metadata": {
  "kernelspec": {
   "display_name": "base",
   "language": "python",
   "name": "python3"
  },
  "language_info": {
   "codemirror_mode": {
    "name": "ipython",
    "version": 3
   },
   "file_extension": ".py",
   "mimetype": "text/x-python",
   "name": "python",
   "nbconvert_exporter": "python",
   "pygments_lexer": "ipython3",
   "version": "3.12.7"
  }
 },
 "nbformat": 4,
 "nbformat_minor": 2
}
